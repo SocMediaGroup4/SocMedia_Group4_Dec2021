{
 "cells": [
  {
   "cell_type": "code",
   "execution_count": null,
   "id": "714d08ea",
   "metadata": {},
   "outputs": [],
   "source": [
    "import csv\n",
    "import time\n",
    "\n",
    "from bs4 import BeautifulSoup\n",
    "from selenium import webdriver\n",
    "from selenium.webdriver.support import ui\n",
    "from selenium.webdriver.support import expected_conditions as EC\n",
    "from selenium.webdriver.common.by import By\n"
   ]
  },
  {
   "cell_type": "code",
   "execution_count": null,
   "id": "a08e7294",
   "metadata": {},
   "outputs": [],
   "source": [
    "def __scroll_down_page(): #Set a function to scroll down the current page\n",
    "    current_scroll_position, new_height = 0, 1 #Set current scroll position as 0 and the position after scrolling as 1\n",
    "    while current_scroll_position <= new_height:\n",
    "        current_scroll_position += 40\n",
    "        #Executes JavaScript and insert the formated current scroll position inside the string's placeholder to perform scrolling down action\n",
    "        driver.execute_script(\"window.scrollTo(0, {});\".format(current_scroll_position)) \n",
    "        # Get new scroll height\n",
    "        new_height = driver.execute_script(\"return document.body.scrollHeight\")\n"
   ]
  },
  {
   "cell_type": "code",
   "execution_count": null,
   "id": "4f31b69b",
   "metadata": {},
   "outputs": [],
   "source": [
    "options = webdriver.ChromeOptions()\n",
    "driver = webdriver.Chrome(options=options, executable_path=\"C:\\ProgramData\\Anaconda3\\Lib\\site-packages\\jupyterlab\\chromedriver.exe\")"
   ]
  },
  {
   "cell_type": "code",
   "execution_count": null,
   "id": "10ce46fc",
   "metadata": {},
   "outputs": [],
   "source": [
    "driver.get('https://en.tripadvisor.com.hk/Hotels-g294217-oa150-zfc3,4,5-Hong_Kong-Hotels.html')\n",
    "driver.maximize_window()\n",
    "time.sleep(5)\n",
    "driver.find_element_by_xpath('//div[@class=\"fylXE\"]/div[contains(text(),\"5\")]').click()\n",
    "time.sleep(2)\n",
    "driver.find_element_by_xpath('//div[@class=\"fylXE\"]/div[contains(text(),\"6\")]').click()\n",
    "time.sleep(2)\n",
    "driver.find_element_by_xpath('//button[contains(text(),\"Update\")]').click()\n",
    "time.sleep(2)\n",
    "driver.find_element_by_css_selector('span>div.cDAjs').click() #click\"Sort by\" box\n",
    "time.sleep(2)\n",
    "driver.find_element_by_xpath('//div[contains(text(),\"Traveller Ranked\")]/..').click()\n",
    "time.sleep(3)\n"
   ]
  },
  {
   "cell_type": "code",
   "execution_count": null,
   "id": "a3308ed2",
   "metadata": {},
   "outputs": [],
   "source": [
    "hotelname = []\n",
    "urls = []\n",
    "check = 0\n",
    "outer_break = False\n",
    "for i in range(30):\n",
    "    try:\n",
    "        time.sleep(10)\n",
    "        __scroll_down_page()\n",
    "        #Executes javascript to print the outerHTMl of the current webpage for Beautiful Soup\n",
    "        data2 = driver.execute_script(\"return document.documentElement.outerHTML\")\n",
    "        soup = BeautifulSoup(data2, 'html.parser')\n",
    "        for link in soup.find_all('div', {'class': 'listing_title'}):\n",
    "            sponsored = link.find('span', {'class': 'sponsored_v2'})\n",
    "            print(sponsored)\n",
    "            #Skip the sponsored hotels that show in the middle of the webpages\n",
    "            if sponsored:\n",
    "                continue\n",
    "            #If there are 300 links of the hotels collected, the process of scraping will end\n",
    "            if check == 300:\n",
    "                outer_break = True\n",
    "                break\n",
    "            b = link.find('a', href=True)\n",
    "            hotel_url = b['href']\n",
    "            urls.append(hotel_url)\n",
    "            hotelname.append(link.find('a', {'class': 'property_title'}).text)\n",
    "            check = check + 1\n",
    "        try:\n",
    "            ui.WebDriverWait(driver, 15).until(\n",
    "                EC.element_to_be_clickable(\n",
    "                    (By.XPATH, '//a[contains(text(),\"Next\")]'))).click()\n",
    "        except:\n",
    "            time.sleep(10)\n",
    "            ui.WebDriverWait(driver, 15).until(\n",
    "                EC.element_to_be_clickable(\n",
    "                    (By.XPATH, '//a[contains(text(),\"Next\")]'))).click()\n",
    "    except:\n",
    "        driver.refresh()\n",
    "\n",
    "    time.sleep(10)\n",
    "    if outer_break:\n",
    "        break\n",
    "driver.close()"
   ]
  },
  {
   "cell_type": "code",
   "execution_count": null,
   "id": "2cf5d92b",
   "metadata": {},
   "outputs": [],
   "source": [
    "data= {\n",
    "    'Hotel Name': hotelname,\n",
    "    'Hotel URL': urls\n",
    "}"
   ]
  },
  {
   "cell_type": "code",
   "execution_count": null,
   "id": "771e297f",
   "metadata": {},
   "outputs": [],
   "source": [
    "dataforcomment={\n",
    "    'Hotel Name': hotelname[:10],\n",
    "    'Hotel URL': urls[:10]\n",
    "}"
   ]
  },
  {
   "cell_type": "code",
   "execution_count": null,
   "id": "79ec1c23",
   "metadata": {},
   "outputs": [],
   "source": [
    "import pandas as pd\n",
    "Top300hotel = pd.DataFrame.from_dict(data)\n",
    "Top10hotel = pd.DataFrame.from_dict(dataforcomment)"
   ]
  },
  {
   "cell_type": "code",
   "execution_count": null,
   "id": "31e1e9c4",
   "metadata": {},
   "outputs": [],
   "source": [
    "Top300hotel.to_csv('Top_300.csv')"
   ]
  },
  {
   "cell_type": "code",
   "execution_count": null,
   "id": "6fc01bcb",
   "metadata": {},
   "outputs": [],
   "source": [
    "Top10hotel.to_csv('Top_10.csv')"
   ]
  }
 ],
 "metadata": {
  "kernelspec": {
   "display_name": "Python 3",
   "language": "python",
   "name": "python3"
  },
  "language_info": {
   "codemirror_mode": {
    "name": "ipython",
    "version": 3
   },
   "file_extension": ".py",
   "mimetype": "text/x-python",
   "name": "python",
   "nbconvert_exporter": "python",
   "pygments_lexer": "ipython3",
   "version": "3.8.8"
  }
 },
 "nbformat": 4,
 "nbformat_minor": 5
}
