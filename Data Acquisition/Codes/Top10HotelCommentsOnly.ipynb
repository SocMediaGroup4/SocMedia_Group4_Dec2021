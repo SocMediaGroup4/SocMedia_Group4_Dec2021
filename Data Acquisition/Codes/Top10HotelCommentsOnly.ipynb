{
 "cells": [
  {
   "cell_type": "code",
   "execution_count": null,
   "id": "67ed29a8",
   "metadata": {},
   "outputs": [],
   "source": [
    "pip install Scrapy"
   ]
  },
  {
   "cell_type": "code",
   "execution_count": null,
   "id": "31fc78cd",
   "metadata": {},
   "outputs": [],
   "source": [
    "import csv\n",
    "import json\n",
    "import re\n",
    "\n",
    "from scrapy import Selector\n",
    "from collections import Counter\n",
    "import os\n",
    "import time\n",
    "from selenium import webdriver"
   ]
  },
  {
   "cell_type": "code",
   "execution_count": null,
   "id": "5f9550a8",
   "metadata": {},
   "outputs": [],
   "source": [
    "def get_store_ids_from_file():\n",
    "    with open(file='Top_10.csv', mode='r', encoding='utf-8') as input_file:\n",
    "        return list(csv.DictReader(input_file))"
   ]
  },
  {
   "cell_type": "code",
   "execution_count": null,
   "id": "e4fa3213",
   "metadata": {},
   "outputs": [],
   "source": [
    "options = webdriver.ChromeOptions()\n",
    "driver = webdriver.Chrome(options=options, executable_path= 'C:\\ProgramData\\Anaconda3\\Lib\\site-packages\\jupyterlab\\chromedriver.exe')\n",
    "i = 0\n",
    "Numberofcomment = []\n",
    "\n",
    "text_file = open(f\"newhotels_comments.txt\", \"w\", encoding='UTF-8')\n",
    "text_file.writelines([\"Hello\", \"World\"])\n",
    "all_comments_append = ''\n",
    "for hotel_url in get_store_ids_from_file():\n",
    "\n",
    "    counter = 1\n",
    "    a = hotel_url.get('Hotel URL')\n",
    "    url = \"https://en.tripadvisor.com.hk/\"+ a\n",
    "    i = i + 1\n",
    "    driver.get(url)\n",
    "\n",
    "    time.sleep(5)\n",
    "\n",
    "\n",
    "    check_comments = True\n",
    "    while check_comments:\n",
    "        try:\n",
    "            # print(driver.page_source)\n",
    "            res = Selector(text=driver.page_source)\n",
    "            data = re.findall('\"reviews\":(.+)},\"reviewAggregations\"', driver.page_source)\n",
    "            json_data = json.loads(data[0])\n",
    "\n",
    "            for reviews in json_data:\n",
    "                coment_count = 0\n",
    "                # join all the comments from 2020 to 2021\n",
    "                if '2019' not in reviews.get('publishedDate'):\n",
    "                    a = reviews.get('publishedDate')\n",
    "                    print(a)\n",
    "                    Numberofcomment.append(a)\n",
    "                    reviews.get('publishedDate')\n",
    "                    reviews.get('text')\n",
    "                    text_file.writelines(f\"{reviews.get('text')};\")\n",
    "                else:\n",
    "                    check_comments = False\n",
    "                    break\n",
    "            next_page_url = res.xpath('//a[@class=\"ui_button nav next primary \"]/@href').get()\n",
    "            if next_page_url:\n",
    "                driver.get('https://en.tripadvisor.com.hk' + next_page_url)\n",
    "                time.sleep(5)\n",
    "            else:\n",
    "                break\n",
    "        except:\n",
    "            driver.get(driver.current_url)\n",
    "            time.sleep(5)"
   ]
  },
  {
   "cell_type": "code",
   "execution_count": null,
   "id": "e443414a",
   "metadata": {},
   "outputs": [],
   "source": [
    "print(len(Numberofcomment))"
   ]
  },
  {
   "cell_type": "code",
   "execution_count": null,
   "id": "c38e8366",
   "metadata": {},
   "outputs": [],
   "source": [
    "text_file.close()\n",
    "\n",
    "driver.close()"
   ]
  }
 ],
 "metadata": {
  "kernelspec": {
   "display_name": "Python 3",
   "language": "python",
   "name": "python3"
  },
  "language_info": {
   "codemirror_mode": {
    "name": "ipython",
    "version": 3
   },
   "file_extension": ".py",
   "mimetype": "text/x-python",
   "name": "python",
   "nbconvert_exporter": "python",
   "pygments_lexer": "ipython3",
   "version": "3.8.8"
  }
 },
 "nbformat": 4,
 "nbformat_minor": 5
}
