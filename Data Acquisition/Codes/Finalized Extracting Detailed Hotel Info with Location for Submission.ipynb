{
 "cells": [
  {
   "cell_type": "code",
   "execution_count": null,
   "id": "284d170f",
   "metadata": {},
   "outputs": [],
   "source": [
    "!pip install selenium"
   ]
  },
  {
   "cell_type": "code",
   "execution_count": null,
   "id": "83269c34",
   "metadata": {},
   "outputs": [],
   "source": [
    "from selenium import webdriver\n",
    "from selenium.webdriver.support.ui import WebDriverWait \n",
    "from selenium.webdriver.common.by import By\n",
    "from selenium.webdriver.support import expected_conditions as EC\n",
    "from selenium.webdriver.common.keys import Keys\n",
    "import csv \n",
    "import urllib.request\n",
    "from time import sleep\n",
    "from time import time\n",
    "from random import randint\n",
    "\n",
    "\n",
    "browser = webdriver.Chrome(executable_path= 'C:\\ProgramData\\Anaconda3\\Lib\\site-packages\\jupyterlab\\chromedriver.exe')"
   ]
  },
  {
   "cell_type": "code",
   "execution_count": null,
   "id": "38220af7",
   "metadata": {},
   "outputs": [],
   "source": [
    "# define some data structure for further use\n",
    "result_list=[]"
   ]
  },
  {
   "cell_type": "code",
   "execution_count": null,
   "id": "2c0b73b2",
   "metadata": {},
   "outputs": [],
   "source": [
    "# define your own function (a block of code for reuse) \"start_request\"\n",
    "def start_request(q):\n",
    "    r = browser.get(\"https://en.tripadvisor.com.hk/\"+q)\n",
    "    print(\"crlawling \"+q)\n",
    "    return r"
   ]
  },
  {
   "cell_type": "code",
   "execution_count": null,
   "id": "d2f9783b",
   "metadata": {},
   "outputs": [],
   "source": [
    "def parse(text):\n",
    "    \n",
    "   sleep(randint(0,3))   # Add some time to wait to load the page\n",
    "   container1 = browser.find_elements_by_xpath('//*[@id=\"taplc_hotel_review_atf_hotel_info_web_component_0\"]')\n",
    "   nbrcontainer = len(container1)\n",
    "   mydict = {}\n",
    "   pm = []\n",
    "\n",
    "   for i in range(0, nbrcontainer):\n",
    "        container1 = browser.find_elements_by_xpath('//*[@id=\"taplc_hotel_review_atf_hotel_info_web_component_0\"]')\n",
    "        container3 = browser.find_elements_by_xpath(\"//div[@class='eZQpm _T Z BB']\")\n",
    "        container4 = browser.find_elements_by_xpath(\"//*[@id='ABOUT_TAB']/div[2]\")\n",
    "        container5 = browser.find_elements_by_xpath(\"//div[@class='dKfjB']\")\n",
    "        container2 = browser.find_elements_by_xpath('//*[@id=\"taplc_hotel_review_atf_hotel_info_web_component_0\"]')\n",
    "        results = container1[i]\n",
    "        result1 = container3[i]\n",
    "        result4 = container4[i]\n",
    "        result5 = container5[i]\n",
    "        result2 = container2[i]\n",
    "        try:\n",
    "            N = results.find_element_by_xpath('//*[@id=\"HEADING\"]')\n",
    "            mydict['name'] = N.text\n",
    "            \n",
    "            try: \n",
    "                try:\n",
    "                    reviews = results.find_element_by_xpath('//span[@class=\"HFUqL\"]')\n",
    "                    mydict['No_of_reviews'] = reviews.text          \n",
    "                    rate = result1.find_element_by_xpath(\"//span[@class='bvcwU P']\")\n",
    "                    mydict['Rates'] = rate.text\n",
    "                    Hotelclass = result4.find_element_by_xpath(\"//span[contains(@class,'fyiTP S2')]//*[name()='svg']\").get_attribute(\"aria-label\")\n",
    "                    mydict['Hotel_class'] = Hotelclass\n",
    "        \n",
    "                except Exception as e:\n",
    "                        break \n",
    "                \n",
    "                PR = result5.find_element_by_xpath(\"//div[@class='cJdpk Ci']\")\n",
    "                PriceRange = PR.text[:-45].split(\"-\", 1)\n",
    "                mydict['MinPrice'] = PriceRange[0][3:8]\n",
    "                mydict['MaxPrice'] = PriceRange[1][4:10]\n",
    "\n",
    "            except:\n",
    "                mydict['MaxPrice'] = \"0\"\n",
    "                mydict['MinPrice'] = \"0\"\n",
    "                \n",
    "            Test = result5.find_element_by_xpath(\"//*[contains(text(), 'NUMBER OF ROOMS')]\")\n",
    "            Number_of_Rooms_Boolean = Test.is_displayed()\n",
    "            if Number_of_Rooms_Boolean == True:\n",
    "                location = result5.find_element_by_xpath('(//div[@class=\"cJdpk Ci\"])[last()-1]')\n",
    "                mydict['Location'] = location.text\n",
    "            else: \n",
    "                location = result5.find_element_by_xpath('(//div[@class=\"cJdpk Ci\"])[last()]')\n",
    "                mydict['Location'] = location.text\n",
    "\n",
    "            result_list.append(mydict)\n",
    "        except Exception as e:\n",
    "            print(e)\n",
    "            print('not____________________________found')\n",
    "            mydict['name'] = 'null'\n",
    "            \n",
    "            result_list.append(mydict)\n"
   ]
  },
  {
   "cell_type": "code",
   "execution_count": null,
   "id": "b194facb",
   "metadata": {
    "scrolled": true
   },
   "outputs": [],
   "source": [
    "with open('Top_300.csv') as f:    \n",
    "    reader = csv.DictReader(f)    \n",
    "    for row in reader:         \n",
    "        req = row['Hotel URL']  \n",
    "        text = start_request(req)\n",
    "        parse(text)\n",
    "        sleep(randint(1,3))"
   ]
  },
  {
   "cell_type": "code",
   "execution_count": null,
   "id": "985de674",
   "metadata": {},
   "outputs": [],
   "source": [
    "import pandas as pd"
   ]
  },
  {
   "cell_type": "code",
   "execution_count": null,
   "id": "426bb013",
   "metadata": {},
   "outputs": [],
   "source": [
    "df = pd.DataFrame(result_list)\n",
    "df.to_csv('Detailed Hotelinfo_v2.csv')\n",
    "df"
   ]
  }
 ],
 "metadata": {
  "kernelspec": {
   "display_name": "Python 3",
   "language": "python",
   "name": "python3"
  },
  "language_info": {
   "codemirror_mode": {
    "name": "ipython",
    "version": 3
   },
   "file_extension": ".py",
   "mimetype": "text/x-python",
   "name": "python",
   "nbconvert_exporter": "python",
   "pygments_lexer": "ipython3",
   "version": "3.8.8"
  }
 },
 "nbformat": 4,
 "nbformat_minor": 5
}
