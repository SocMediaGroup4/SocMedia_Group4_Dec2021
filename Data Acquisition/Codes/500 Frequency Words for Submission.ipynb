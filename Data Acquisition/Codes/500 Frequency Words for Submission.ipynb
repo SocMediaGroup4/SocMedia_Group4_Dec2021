{
 "cells": [
  {
   "cell_type": "code",
   "execution_count": null,
   "id": "5d9e060f",
   "metadata": {},
   "outputs": [],
   "source": [
    "with open('newhotels_comments.txt', encoding='utf8') as f:\n",
    "    contents = f.read()  "
   ]
  },
  {
   "cell_type": "code",
   "execution_count": null,
   "id": "c87e4270",
   "metadata": {},
   "outputs": [],
   "source": [
    "!pip install nltk"
   ]
  },
  {
   "cell_type": "code",
   "execution_count": null,
   "id": "22346115",
   "metadata": {},
   "outputs": [],
   "source": [
    "import nltk\n",
    "nltk.download(\"stopwords\")"
   ]
  },
  {
   "cell_type": "code",
   "execution_count": null,
   "id": "7b0e4d29",
   "metadata": {},
   "outputs": [],
   "source": [
    "from nltk.corpus import stopwords\n",
    "stop = stopwords.words('english')"
   ]
  },
  {
   "cell_type": "code",
   "execution_count": null,
   "id": "fd5a73fb",
   "metadata": {},
   "outputs": [],
   "source": [
    "stop += ['a', 'about', 'above', 'across', 'after', 'afterwards']\n",
    "stop += ['again', 'against', 'all', 'almost', 'alone', 'along']\n",
    "stop += ['already', 'also', 'although', 'always', 'the', 'am', 'among']\n",
    "stop += ['amongst', 'amoungst', 'amount', 'tha', 'an', 'and', 'another']\n",
    "stop += ['any', 'anyhow', 'anyone', 'anything', 'anyway', 'anywhere']\n",
    "stop += ['are', 'around', 'as', 'at', 'back', 'be ', 'became']\n",
    "stop += ['because', 'become', 'becomes', 'becoming', 'been']\n",
    "stop += ['before', 'beforehand', 'behind', 'being', 'below']\n",
    "stop += ['beside', 'besides', 'between', 'beyond', 'bill', 'both']\n",
    "stop += ['bottom', 'but', 'by', 'call', 'can', 'cannot', 'cant']\n",
    "stop += ['co ', 'computer', 'con', 'could', 'couldnt', 'cry', 'de']\n",
    "stop += ['describe', 'detail', 'did', 'do', 'done', 'down', 'due']\n",
    "stop += ['during', 'each', 'eg ', 'eight', 'either', 'eleven', 'else']\n",
    "stop += ['elsewhere', 'empty', 'enough', 'etc', 'even', 'ever']\n",
    "stop += ['every', 'everyone', 'everything', 'everywhere', 'except']\n",
    "stop += ['few', 'fifteen', 'fifty', 'fill', 'find', 'fire', 'first']\n",
    "stop += ['five', 'for', 'former', 'formerly', 'forty', 'found']\n",
    "stop += ['four', 'from', 'front', 'full', 'further', 'get', 'give']\n",
    "stop += ['go', 'had', 'has', 'hasnt', 'have', 'he', 'hence', 'her']\n",
    "stop += ['here', 'hereafter', 'hereby', 'herein', 'hereupon', 'hers']\n",
    "stop += ['herself', 'him', 'himself', 'his', 'how', 'however']\n",
    "stop += ['hundred', 'i ', 'ie ', 'if ', 'in ', 'inc', 'indeed']\n",
    "stop += ['interest', 'into', 'is ', 'it ', 'its', 'itself', 'keep']\n",
    "stop += ['last', 'latter', 'latterly', 'least', 'less', 'ltd', 'made']\n",
    "stop += ['many', 'may ', 'me ', 'meanwhile', 'might', 'mill', 'mine']\n",
    "stop += ['more', 'moreover', 'most', 'mostly', 'move', 'much']\n",
    "stop += ['must', 'my ', 'myself', 'name', 'namely', 'neither', 'never']\n",
    "stop += ['nevertheless', 'next', 'nine', 'no ', 'nobody', 'none']\n",
    "stop += ['noone', 'nor', 'not', 'nothing', 'now', 'nowhere', 'of ']\n",
    "stop += ['off', 'often', 'on ', 'once', 'one', 'only', 'onto', 'or ']\n",
    "stop += ['other', 'others', 'otherwise', 'our', 'ours', 'ourselves']\n",
    "stop += ['out', 'over', 'own', 'part', 'per', 'perhaps', 'please']\n",
    "stop += ['put', 'rather', 're ', 's ', 'same', 'see', 'seem', 'seemed']\n",
    "stop += ['seeming', 'seems', 'serious', 'several', 'she ', 'should']\n",
    "stop += ['show', 'side', 'since', 'sincere', 'six ', 'sixty', 'so ']\n",
    "stop += ['some', 'somehow', 'someone', 'something', 'sometime']\n",
    "stop += ['sometimes', 'somewhere', 'still', 'such', 'system', 'take']\n",
    "stop += ['ten', 'than', 'that', 'the ', 'their', 'them', 'themselves']\n",
    "stop += ['then', 'thence', 'there', 'thereafter', 'thereby']\n",
    "stop += ['therefore', 'therein', 'thereupon', 'these', 'they']\n",
    "stop += ['thick', 'thin', 'third', 'this', 'those', 'though', 'three']\n",
    "stop += ['three', 'through', 'throughout', 'thru', 'thus', 'to']\n",
    "stop += ['together', 'too ', 'top ', 'toward', 'towards', 'twelve']\n",
    "stop += ['twenty', 'two', 'un ', 'under', 'until', 'up ', 'upon']\n",
    "stop += ['us', 'very', 'via', 'was', 'we', 'well', 'were', 'what']\n",
    "stop += ['whatever', 'when', 'whence', 'whenever', 'where']\n",
    "stop += ['whereafter', 'whereas', 'whereby', 'wherein', 'whereupon']\n",
    "stop += ['wherever', 'whether', 'which', 'while', 'whither', 'who']\n",
    "stop += ['whoever', 'whole', 'whom', 'whose', 'why', 'will', 'with']\n",
    "stop += ['within', 'without', 'would', 'yet ', 'you ', 'your']"
   ]
  },
  {
   "cell_type": "code",
   "execution_count": null,
   "id": "d2d800ae",
   "metadata": {},
   "outputs": [],
   "source": [
    "import csv\n",
    "from collections import Counter"
   ]
  },
  {
   "cell_type": "code",
   "execution_count": null,
   "id": "5ab7b967",
   "metadata": {},
   "outputs": [],
   "source": [
    "outfile2 = open(f'500_keywords_from_comments_hotels.csv', \"w\", newline=\"\", encoding='UTF-8')\n",
    "writer2 = csv.writer(outfile2)\n",
    "writer2.writerow(\n",
    "    ['keywords_from_comments', 'Frequency'])\n",
    "\n",
    "for com in stop:\n",
    "    contents.replace(com, '')\n",
    "\n",
    "split_it = contents.split()"
   ]
  },
  {
   "cell_type": "code",
   "execution_count": null,
   "id": "2a622c8e",
   "metadata": {},
   "outputs": [],
   "source": [
    "# Counting the split hashable strings\n",
    "Counters_found = Counter(split_it)\n",
    "# Finding the most common words\n",
    "most_occur = Counters_found.most_common()\n",
    "\n",
    "checker = 0\n",
    "for cc in range(0, 5000):\n",
    "    if most_occur[cc][0].lower() not in stop:\n",
    "        checker = checker + 1\n",
    "        if checker <= 500:\n",
    "            writer2.writerow([most_occur[cc][0], most_occur[cc][1]])\n",
    "        else:\n",
    "            break\n",
    "\n",
    "outfile2.close()\n"
   ]
  }
 ],
 "metadata": {
  "kernelspec": {
   "display_name": "Python 3",
   "language": "python",
   "name": "python3"
  },
  "language_info": {
   "codemirror_mode": {
    "name": "ipython",
    "version": 3
   },
   "file_extension": ".py",
   "mimetype": "text/x-python",
   "name": "python",
   "nbconvert_exporter": "python",
   "pygments_lexer": "ipython3",
   "version": "3.8.8"
  }
 },
 "nbformat": 4,
 "nbformat_minor": 5
}
